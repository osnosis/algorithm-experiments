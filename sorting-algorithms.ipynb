{
 "cells": [
  {
   "cell_type": "markdown",
   "metadata": {},
   "source": [
    "# Objective\n",
    "\n",
    "Implement and evaluate various sorting techniques.\n",
    "\n",
    "First, set random seed and create our lists."
   ]
  },
  {
   "cell_type": "code",
   "execution_count": 154,
   "metadata": {
    "collapsed": true
   },
   "outputs": [],
   "source": [
    "import time\n",
    "import random\n",
    "\n",
    "random.seed(a=100)\n",
    "\n",
    "short_list = list(random.sample(range(1000000), 10))\n",
    "long_list = list(random.sample(range(1000000), 10000))"
   ]
  },
  {
   "cell_type": "markdown",
   "metadata": {},
   "source": [
    "# Linked List"
   ]
  },
  {
   "cell_type": "code",
   "execution_count": 1,
   "metadata": {
    "collapsed": false
   },
   "outputs": [
    {
     "name": "stdout",
     "output_type": "stream",
     "text": [
      "List Values:\n",
      "1\n",
      "2\n",
      "3\n",
      "4\n",
      "None\n",
      "List Values:\n",
      "1\n",
      "100\n",
      "4\n",
      "None\n"
     ]
    }
   ],
   "source": [
    "# Thinkful code\n",
    "class Node(object):\n",
    " \n",
    "    def __init__(self, data, next=None):\n",
    "        self.data = data\n",
    "        self.next = next\n",
    "        # Node initializes and pointer is set to None by default (no data yet) \n",
    "        # Along with the data each node holds a pointer, which is a reference to the next node in the list\n",
    " \n",
    "class LinkedList(object):\n",
    "    def __init__(self, head=None, tail=None):\n",
    "        self.head = None\n",
    "        self.tail = None\n",
    "        # Head node is a placeholder that allows us to point to the first element in the list\n",
    "        # Tail node is a placeholder that allows the last element to point to something\n",
    "        # Head = None because when initialized, there are no elements in list\n",
    " \n",
    "    def print_list(self):\n",
    "        print(\"List Values:\")\n",
    "        # Start at the head.\n",
    "        current_node = self.head\n",
    "        while current_node != None:\n",
    "            print(current_node.data)\n",
    "            current_node = current_node.next\n",
    "        print(None)\n",
    " \n",
    "    def append(self, data):\n",
    "        # Add element to end of list\n",
    "        node = Node(data, None)\n",
    "        # If list is empty, add node as both head and tail\n",
    "        if self.head is None:\n",
    "            self.head = node\n",
    "            self.tail = node\n",
    "        else:\n",
    "            # Otherwise set the end to point to the new node and reset the end to the new node\n",
    "            self.tail.next = node\n",
    "        self.tail = node\n",
    " \n",
    "    def remove(self, node_value):\n",
    "        current_node = self.head\n",
    "        previous_node = None\n",
    "        while current_node != None:\n",
    "            if current_node.data == node_value:\n",
    "                if previous_node is not None:\n",
    "                    previous_node.next = current_node.next\n",
    "                        # resets that previous node’s pointer so that\n",
    "                        # rather than pointing to the soon-to-be-deleted node\n",
    "                        # it will point to the next node in line\n",
    "                else:\n",
    "                    # Deleting first element of list\n",
    "                    self.head = current_node.next\n",
    " \n",
    "            # Repair list after removal\n",
    "            previous_node = current_node\n",
    "            current_node = current_node.next\n",
    "    \n",
    "    def insert(self, value, at):\n",
    "        current_node = self.head\n",
    "        new_node = Node(value)\n",
    "        while current_node != None:\n",
    "            if current_node.data == at:\n",
    "                if current_node is not None:\n",
    "                    new_node.next = current_node.next\n",
    "                    current_node.next = new_node \n",
    "                    # point the new node at the old head (sort of pushing the other nodes down the line)\n",
    "                else:\n",
    "                    # Inserting last element of list\n",
    "                    self.tail = current_node.next\n",
    " \n",
    "            # Move to the next one\n",
    "            current_node = current_node.next\n",
    " \n",
    " \n",
    "# Run these tests, then try play with the LinkedList class and try your own.\n",
    "s = LinkedList()\n",
    "s.append(1)\n",
    "s.append(2)\n",
    "s.append(3)\n",
    "s.append(4)\n",
    "s.print_list()\n",
    "\n",
    "s.remove(3)\n",
    "s.remove(2)\n",
    "s.insert(100, at=1) \n",
    "\n",
    "s.print_list()"
   ]
  },
  {
   "cell_type": "markdown",
   "metadata": {},
   "source": [
    "# Insertion Sort\n",
    "\n",
    "Copy list to new list to avoid modifying the original. <br>\n",
    "Iterate through list, assigning index i to a new variable 'position' for the new list. <br>\n",
    "Swap places to move larger number when the previous position is larger than the current position. <br>\n",
    "Repeat for all indexes in original list."
   ]
  },
  {
   "cell_type": "code",
   "execution_count": 161,
   "metadata": {
    "collapsed": false
   },
   "outputs": [],
   "source": [
    "def insert_sort(input_list):\n",
    "\n",
    "    new_list = list(input_list)\n",
    "\n",
    "    for i in range(len(new_list)):\n",
    "        position = i\n",
    "\n",
    "        while position > 0 and new_list[position - 1] > new_list[position]:\n",
    "            new_list[position - 1], new_list[position] = new_list[position], new_list[position - 1]\n",
    "            position = position - 1\n",
    "    return new_list"
   ]
  },
  {
   "cell_type": "code",
   "execution_count": 162,
   "metadata": {
    "collapsed": false
   },
   "outputs": [
    {
     "name": "stdout",
     "output_type": "stream",
     "text": [
      "[152745, 481850, 477025, 997948, 808225, 183236, 739784, 412125, 767514, 366725]\n",
      "[152745, 183236, 366725, 412125, 477025, 481850, 739784, 767514, 808225, 997948]\n"
     ]
    }
   ],
   "source": [
    "print(short_list)\n",
    "insert_short_list = insert_sort(short_list)\n",
    "print(insert_short_list)"
   ]
  },
  {
   "cell_type": "markdown",
   "metadata": {},
   "source": [
    "Now that we have defined our insertion sort, let's test its speed on the short and long list. <br>\n",
    "\n",
    "Start the timer. <br>\n",
    "Run insertion short on short list and long list and show runtime for both."
   ]
  },
  {
   "cell_type": "code",
   "execution_count": 8,
   "metadata": {
    "collapsed": false
   },
   "outputs": [
    {
     "name": "stdout",
     "output_type": "stream",
     "text": [
      "--- 0.00010585784912109375 seconds ---\n",
      "[152745, 183236, 366725, 412125, 477025, 481850, 739784, 767514, 808225, 997948]\n",
      "--- 12.314450740814209 seconds ---\n"
     ]
    }
   ],
   "source": [
    "start_time = time.time()\n",
    "insert_sort(short_list)\n",
    "print(f'--- {time.time() - start_time} seconds ---')\n",
    "print(insert_sort(short_list))\n",
    "\n",
    "start_time = time.time()\n",
    "insert_sort(long_list)\n",
    "print(f'--- {time.time() - start_time} seconds ---')"
   ]
  },
  {
   "cell_type": "markdown",
   "metadata": {},
   "source": [
    "This works but doesn't scale well. The complexity is (O(n^2)). <br>\n",
    "\n",
    "# Merge Sort\n",
    "\n",
    "Let's try merge sort, which starts by breaking our large list into single element sublists. These single-element lists are each inherently ordered. Then we merge those single-element lists together into ordered pairs, reading from a single end to preserve their order. We repeat this process and arrive ultimately at a sorted list. The complexity of merge sort is O(nlogn) and the algorithm works recursively. Note: merge sort requires extra space to hold the two halves as they are extracted with the slicing operations. This additional space can be a critical factor if the list is large.\n",
    "\n",
    "- First, check for empty list: if one of two is empty, return whole list\n",
    "- Create an empty result list\n",
    "- Start i, j indices at 0\n",
    "- Set a while condition to ensure we iterate only for the length of our two lists\n",
    "- If a[i] < b[j] add a[i] to result list and move to next element of a\n",
    "- If a[i+1] is NOT less than b[j] then add b[j] to result list and move to next element of b\n",
    "- If you run out of elements in a list then append the remaining list <br><br>\n",
    "\n",
    "- Divide list in two (a/b)\n",
    "- Feed a/b into merge function"
   ]
  },
  {
   "cell_type": "code",
   "execution_count": 150,
   "metadata": {
    "collapsed": true
   },
   "outputs": [],
   "source": [
    "def merge(a, b):\n",
    "\n",
    "    if len(a) == 0 or len(b) == 0:\n",
    "        return a or b\n",
    "    \n",
    "    result = []\n",
    "    i, j = 0, 0\n",
    "\n",
    "    while (len(result) < len(a) + len(b)):\n",
    "        if a[i] < b[j]:\n",
    "            result.append(a[i])\n",
    "            i += 1\n",
    "        else:\n",
    "            result.append(b[j])\n",
    "            j += 1\n",
    "        if i == len(a) or j == len(b):\n",
    "            result.extend(a[i:] or b[j:])\n",
    "            break \n",
    "            \n",
    "    return result\n",
    "\n",
    "def merge_sort(lst):\n",
    "    if len(lst) < 2:\n",
    "        return lst\n",
    "\n",
    "    mid = int(len(lst) / 2)\n",
    "    a = merge_sort(lst[:mid])\n",
    "    b = merge_sort(lst[mid:])\n",
    "\n",
    "    return merge(a, b)"
   ]
  },
  {
   "cell_type": "code",
   "execution_count": 152,
   "metadata": {
    "collapsed": false
   },
   "outputs": [
    {
     "name": "stdout",
     "output_type": "stream",
     "text": [
      "--- 0.00020694732666015625 seconds ---\n",
      "[152745, 183236, 366725, 412125, 477025, 481850, 739784, 767514, 808225, 997948] \n",
      "\n",
      "--- 0.09716510772705078 seconds ---\n"
     ]
    }
   ],
   "source": [
    "start_time = time.time()\n",
    "merge_sort(short_list)\n",
    "print(f'--- {time.time() - start_time} seconds ---')\n",
    "print(merge_sort(short_list), '\\n')\n",
    "\n",
    "start_time = time.time()\n",
    "merge_sort(long_list)\n",
    "print(f'--- {time.time() - start_time} seconds ---')"
   ]
  },
  {
   "cell_type": "markdown",
   "metadata": {},
   "source": [
    "That was much faster than the insertion sort. The short time was 0.0002 and the long time was 0.097. However, Python has a built in sorting function that is worth checking out."
   ]
  },
  {
   "cell_type": "code",
   "execution_count": 153,
   "metadata": {
    "collapsed": false
   },
   "outputs": [
    {
     "name": "stdout",
     "output_type": "stream",
     "text": [
      "--- 9.393692016601562e-05 seconds ---\n",
      "--- 0.0011327266693115234 seconds ---\n"
     ]
    }
   ],
   "source": [
    "start_time = time.time()\n",
    "sorted(short_list)\n",
    "print(f'--- {time.time() - start_time} seconds ---')\n",
    "\n",
    "start_time = time.time()\n",
    "sorted(long_list)\n",
    "print(f'--- {time.time() - start_time} seconds ---')"
   ]
  },
  {
   "cell_type": "markdown",
   "metadata": {},
   "source": [
    "The built-in sorting function is much faster! This is because it isn't actually written in Python, but Cython, which allows it to run in a version of C that is much faster than generic Python. For most cases, it's worth using the built-in feature. However, it's worth understanding how these alternative algorithms function at their most basic level and how we can work with them to build our own bespoke tools. <br>\n",
    "\n",
    "Now, implement another sorting algorithm (e.g. Heap Sort, QuickSort, Selection Sort) and figure out why it runs faster or slower than our other algorithms.\n",
    "\n",
    "# Quicksort\n",
    "\n",
    "Quicksort is similar to merge sort in that it partitions the list, but differs because it **does not require any additional memory**. It selects a value as the pivot value (often first value) and a split point, the position where the pivot value belongs.<br>\n",
    "\n",
    "The partition process involves designating a left mark and right mark of all the remaining values after the pivot value. We compare both values to the pivot value. Overall, we want the left side lower and the right side higher; if they fit this, we move to the next items. If they don't we switch them. When the right mark and left mark cross over, we have found our split point. <br>\n",
    "\n",
    "We move the pivot value to the split point, split our list into two and repeat the function recursively until it is sorting lists of 1. <br>\n",
    "\n",
    "The average complexity of quicksort is O(n log n) in place (worst case is O(n^2), compared to merge sort which is O(n log n) of extra memory in average AND worst case scenarios."
   ]
  },
  {
   "cell_type": "markdown",
   "metadata": {},
   "source": [
    "- As long as list is > 1 element (start < end): use partition function to find pivot index/value.\n",
    "- Partition function takes arbitrary value as pivot, rearranges left and right sides of remaining values until they converge on a point, then switches the pivot value with that point.\n",
    "- Quicksort is called recursively on the left segment and right segment until all 2 element arrays are sorted and can move back up the chain."
   ]
  },
  {
   "cell_type": "code",
   "execution_count": 148,
   "metadata": {
    "collapsed": false
   },
   "outputs": [],
   "source": [
    "def partition(my_list, start, end):\n",
    "    pivot = my_list[start]\n",
    "    left = start+1\n",
    "    right = end\n",
    "    done = False\n",
    "    \n",
    "    while not done:\n",
    "        while left <= right and my_list[left] <= pivot:\n",
    "            left = left + 1\n",
    "        while my_list[right] >= pivot and right >= left:\n",
    "            right = right - 1\n",
    "        if right < left:\n",
    "            done = True\n",
    "        else:\n",
    "            temp = my_list[left]\n",
    "            my_list[left] = my_list[right]\n",
    "            my_list[right] = temp\n",
    "            \n",
    "    temp = my_list[start]\n",
    "    my_list[start] = my_list[right]\n",
    "    my_list[right] = temp\n",
    "    return right\n",
    "\n",
    "def quicksort(my_list, start, end):\n",
    "    if start < end:\n",
    "        pivot = partition(my_list, start, end)\n",
    "        quicksort(my_list, start, pivot-1)\n",
    "        quicksort(my_list, pivot+1, end)\n",
    "    return my_list"
   ]
  },
  {
   "cell_type": "code",
   "execution_count": 147,
   "metadata": {
    "collapsed": false
   },
   "outputs": [
    {
     "name": "stdout",
     "output_type": "stream",
     "text": [
      "--- 0.00016307830810546875 seconds ---\n",
      "[152745, 183236, 366725, 412125, 477025, 481850, 739784, 767514, 808225, 997948] \n",
      "\n",
      "--- 0.05046391487121582 seconds ---\n"
     ]
    }
   ],
   "source": [
    "start_time = time.time()\n",
    "sorted_short = quicksort(short_list, 0, (len(short_list)-1))\n",
    "print(f'--- {time.time() - start_time} seconds ---')\n",
    "print(sorted_short, '\\n')\n",
    "\n",
    "start_time = time.time()\n",
    "quicksort(long_list, 0, (len(long_list)-1))\n",
    "print(f'--- {time.time() - start_time} seconds ---')"
   ]
  },
  {
   "cell_type": "markdown",
   "metadata": {
    "collapsed": true
   },
   "source": [
    "With a short time of 0.00016 and a long time of 0.05 seconds, quick sort certainly lives up to its name. It is about twice as fast as merge sort. For the short list, the time was almost comparable with the built-in sorting method, but when the list got longer the quick sort algorithm proved to be much slower by a magnitude of 50."
   ]
  }
 ],
 "metadata": {
  "kernelspec": {
   "display_name": "Python 3",
   "language": "python",
   "name": "python3"
  },
  "language_info": {
   "codemirror_mode": {
    "name": "ipython",
    "version": 3
   },
   "file_extension": ".py",
   "mimetype": "text/x-python",
   "name": "python",
   "nbconvert_exporter": "python",
   "pygments_lexer": "ipython3",
   "version": "3.6.0"
  }
 },
 "nbformat": 4,
 "nbformat_minor": 2
}
